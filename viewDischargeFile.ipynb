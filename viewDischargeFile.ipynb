{
 "cells": [
  {
   "cell_type": "code",
   "execution_count": 2,
   "metadata": {},
   "outputs": [],
   "source": [
    "import pandas as pd\n",
    "\n",
    "file_path = \"/Users/sagewong/Downloads/mimic-iv-note-deidentified-free-text-clinical-notes-2.2/note/discharge.csv\"\n",
    "chunk_size = 1000\n",
    "chunks = []\n",
    "\n",
    "for chunk in pd.read_csv(file_path, chunksize = chunk_size):\n",
    "    chunks.append(chunk)\n",
    "\n",
    "df = pd.concat(chunks, ignore_index=True)"
   ]
  },
  {
   "cell_type": "code",
   "execution_count": 3,
   "metadata": {},
   "outputs": [
    {
     "name": "stdout",
     "output_type": "stream",
     "text": [
      "<class 'pandas.core.frame.DataFrame'>\n",
      "RangeIndex: 331793 entries, 0 to 331792\n",
      "Data columns (total 8 columns):\n",
      " #   Column      Non-Null Count   Dtype \n",
      "---  ------      --------------   ----- \n",
      " 0   note_id     331793 non-null  object\n",
      " 1   subject_id  331793 non-null  int64 \n",
      " 2   hadm_id     331793 non-null  int64 \n",
      " 3   note_type   331793 non-null  object\n",
      " 4   note_seq    331793 non-null  int64 \n",
      " 5   charttime   331793 non-null  object\n",
      " 6   storetime   331776 non-null  object\n",
      " 7   text        331793 non-null  object\n",
      "dtypes: int64(3), object(5)\n",
      "memory usage: 20.3+ MB\n",
      "None\n"
     ]
    }
   ],
   "source": [
    "print(df.info())"
   ]
  },
  {
   "cell_type": "code",
   "execution_count": 4,
   "metadata": {},
   "outputs": [],
   "source": [
    "a = df.loc[:, ['text']]\n",
    "a['stigmatizing_language'] = \"\"\n"
   ]
  },
  {
   "cell_type": "code",
   "execution_count": 5,
   "metadata": {},
   "outputs": [],
   "source": [
    "a.to_csv(\"mimic-iv-note-simplified.csv\")"
   ]
  },
  {
   "cell_type": "code",
   "execution_count": 6,
   "metadata": {},
   "outputs": [
    {
     "name": "stdout",
     "output_type": "stream",
     "text": [
      "<bound method DataFrame.info of         Unnamed: 0                                               text  \\\n",
      "0                0   \\nName:  ___                     Unit No:   _...   \n",
      "1                1   \\nName:  ___                     Unit No:   _...   \n",
      "2                2   \\nName:  ___                     Unit No:   _...   \n",
      "3                3   \\nName:  ___                     Unit No:   _...   \n",
      "4                4   \\nName:  ___                    Unit No:   __...   \n",
      "...            ...                                                ...   \n",
      "331788      331788   \\nName:  ___                   Unit No:   ___...   \n",
      "331789      331789   \\nName:  ___                   Unit No:   ___...   \n",
      "331790      331790   \\nName:  ___                  Unit No:   ___\\...   \n",
      "331791      331791   \\nName:  ___                  Unit No:   ___\\...   \n",
      "331792      331792   \\nName:  ___                    Unit No:   __...   \n",
      "\n",
      "        stigmatizing_language  \n",
      "0                         NaN  \n",
      "1                         NaN  \n",
      "2                         NaN  \n",
      "3                         NaN  \n",
      "4                         NaN  \n",
      "...                       ...  \n",
      "331788                    NaN  \n",
      "331789                    NaN  \n",
      "331790                    NaN  \n",
      "331791                    NaN  \n",
      "331792                    NaN  \n",
      "\n",
      "[331793 rows x 3 columns]>\n"
     ]
    }
   ],
   "source": [
    "import pandas as pd\n",
    "file_path = \"mimic-iv-note-simplified.csv\"\n",
    "chunk_size = 1000\n",
    "chunks = []\n",
    "\n",
    "for chunk in pd.read_csv(file_path, chunksize = chunk_size):\n",
    "    chunks.append(chunk)\n",
    "\n",
    "df = pd.concat(chunks, ignore_index=True)\n",
    "print(df.info)"
   ]
  },
  {
   "cell_type": "code",
   "execution_count": 7,
   "metadata": {},
   "outputs": [
    {
     "data": {
      "text/plain": [
       "Index(['Unnamed: 0', 'text', 'stigmatizing_language'], dtype='object')"
      ]
     },
     "execution_count": 7,
     "metadata": {},
     "output_type": "execute_result"
    }
   ],
   "source": [
    "df.columns"
   ]
  },
  {
   "cell_type": "code",
   "execution_count": null,
   "metadata": {},
   "outputs": [
    {
     "name": "stderr",
     "output_type": "stream",
     "text": [
      "/var/folders/c6/2nhk07gx4s7b8xks2kwjq2vc0000gn/T/ipykernel_30031/476231444.py:21: SettingWithCopyWarning: \n",
      "A value is trying to be set on a copy of a slice from a DataFrame\n",
      "\n",
      "See the caveats in the documentation: https://pandas.pydata.org/pandas-docs/stable/user_guide/indexing.html#returning-a-view-versus-a-copy\n",
      "  df.iloc[dfIndexPos]['stigmatizing_language'] = textbox_stigmatizing_language.get(\"1.0\", \"end-1c\")\n"
     ]
    },
    {
     "ename": "",
     "evalue": "",
     "output_type": "error",
     "traceback": [
      "\u001b[1;31mThe Kernel crashed while executing code in the current cell or a previous cell. \n",
      "\u001b[1;31mPlease review the code in the cell(s) to identify a possible cause of the failure. \n",
      "\u001b[1;31mClick <a href='https://aka.ms/vscodeJupyterKernelCrash'>here</a> for more info. \n",
      "\u001b[1;31mView Jupyter <a href='command:jupyter.viewOutput'>log</a> for further details."
     ]
    }
   ],
   "source": [
    "import tkinter as tk\n",
    "from tkinter import scrolledtext\n",
    "import csv\n",
    "\n",
    "annotated_df = pd.read_csv(\"mimic-iv-note-annotated-dataset.csv\")\n",
    "\n",
    "dfIndexPos = 16\n",
    "\n",
    "initialText = df.iloc[0]['stigmatizing_language']\n",
    "\n",
    "root = tk.Tk()\n",
    "root.title(\"Annotated dataset creator\")\n",
    "root.geometry(\"1200x900-100+0\")\n",
    "\n",
    "# Tkinter button functions\n",
    "def nextButtonClicked():\n",
    "    global dfIndexPos\n",
    "    dfIndexPos += 1\n",
    "    clinical_note_display.delete(\"1.0\", tk.END)\n",
    "    clinical_note_display.insert(tk.END, df.iloc[dfIndexPos]['text'])\n",
    "    df.iloc[dfIndexPos]['stigmatizing_language'] = textbox_stigmatizing_language.get(\"1.0\", \"end-1c\")\n",
    "    textbox_stigmatizing_language.delete(\"1.0\", tk.END)\n",
    "    textbox_stigmatizing_language.insert(tk.END, df.iloc[dfIndexPos]['stigmatizing_language'])\n",
    "    index_label.config(text=f\"index: {dfIndexPos}\")\n",
    "    saveButton.config(bg=\"red\")\n",
    "\n",
    "def previousButtonClicked():\n",
    "    global dfIndexPos\n",
    "    if dfIndexPos > 0:\n",
    "        dfIndexPos -= 1\n",
    "    clinical_note_display.delete(\"1.0\", tk.END)\n",
    "    clinical_note_display.insert(tk.END, df.iloc[dfIndexPos]['text'])\n",
    "    df.iloc[dfIndexPos]['stigmatizing_language'] = textbox_stigmatizing_language.get(\"1.0\", \"end-1c\")\n",
    "    textbox_stigmatizing_language.delete(\"1.0\", tk.END)\n",
    "    textbox_stigmatizing_language.insert(tk.END, df.iloc[dfIndexPos]['stigmatizing_language'])\n",
    "    index_label.config(text=f\"index: {dfIndexPos}\")\n",
    "    saveButton.config(bg=\"red\")\n",
    "\n",
    "def saveToDataset():\n",
    "    new_df = pd.read_csv('mimic-iv-note-annotated-dataset.csv')\n",
    "    new_row = pd.DataFrame([{'text': df.iloc[dfIndexPos]['text'], 'stigmatizing_language': textbox_stigmatizing_language.get(\"1.0\", tk.END)}])\n",
    "    new_df = pd.concat([new_df, new_row])\n",
    "    new_df.to_csv('mimic-iv-note-annotated-dataset.csv',quoting=csv.QUOTE_ALL)\n",
    "    saveButton.config(bg=\"green\")\n",
    "\n",
    "previousButton = tk.Button(root, text=\"previous cell\", command=previousButtonClicked)\n",
    "previousButton.grid(row=0, column=0)\n",
    "\n",
    "clinical_note_display = scrolledtext.ScrolledText(root, wrap=tk.WORD, width=100, height=50, font=(\"Arial\", 12))\n",
    "clinical_note_display.grid(row=0, column=1)\n",
    "clinical_note_display.insert(tk.END, df.iloc[dfIndexPos]['text'])\n",
    "\n",
    "index_label = tk.Label(root, text = f\"index: {dfIndexPos}\")\n",
    "index_label.grid(row=1, column = 1)\n",
    "\n",
    "textbox_stigmatizing_language = tk.Text(root, height=5, width=30)\n",
    "textbox_stigmatizing_language.grid(row=2, column=1)\n",
    "textbox_stigmatizing_language.insert(\"1.0\", initialText)\n",
    "\n",
    "nextButton = tk.Button(root, text=\"next cell\", command=nextButtonClicked)\n",
    "nextButton.grid(row=0, column=2)\n",
    "\n",
    "saveButton = tk.Button(root, text=\"save to dataset\", command=saveToDataset)\n",
    "saveButton.grid(row=1, column = 2)\n",
    "\n",
    "root.mainloop()"
   ]
  }
 ],
 "metadata": {
  "kernelspec": {
   "display_name": ".venv",
   "language": "python",
   "name": "python3"
  },
  "language_info": {
   "codemirror_mode": {
    "name": "ipython",
    "version": 3
   },
   "file_extension": ".py",
   "mimetype": "text/x-python",
   "name": "python",
   "nbconvert_exporter": "python",
   "pygments_lexer": "ipython3",
   "version": "3.12.6"
  }
 },
 "nbformat": 4,
 "nbformat_minor": 2
}
