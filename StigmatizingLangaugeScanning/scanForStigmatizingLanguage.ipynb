{
 "cells": [
  {
   "cell_type": "code",
   "execution_count": 1,
   "metadata": {},
   "outputs": [
    {
     "ename": "ModuleNotFoundError",
     "evalue": "No module named 'pandas'",
     "output_type": "error",
     "traceback": [
      "\u001b[0;31m---------------------------------------------------------------------------\u001b[0m",
      "\u001b[0;31mModuleNotFoundError\u001b[0m                       Traceback (most recent call last)",
      "Cell \u001b[0;32mIn[1], line 1\u001b[0m\n\u001b[0;32m----> 1\u001b[0m \u001b[38;5;28;01mimport\u001b[39;00m \u001b[38;5;21;01mpandas\u001b[39;00m \u001b[38;5;28;01mas\u001b[39;00m \u001b[38;5;21;01mpd\u001b[39;00m\n\u001b[1;32m      2\u001b[0m file_path \u001b[38;5;241m=\u001b[39m \u001b[38;5;124m\"\u001b[39m\u001b[38;5;124mmimic-iv-note-simplified.csv\u001b[39m\u001b[38;5;124m\"\u001b[39m\n\u001b[1;32m      3\u001b[0m chunk_size \u001b[38;5;241m=\u001b[39m \u001b[38;5;241m1000\u001b[39m\n",
      "\u001b[0;31mModuleNotFoundError\u001b[0m: No module named 'pandas'"
     ]
    }
   ],
   "source": [
    "import pandas as pd\n",
    "file_path = \"mimic-iv-note-simplified.csv\"\n",
    "chunk_size = 1000\n",
    "chunks = []\n",
    "\n",
    "for chunk in pd.read_csv(file_path, chunksize = chunk_size):\n",
    "    chunks.append(chunk)\n",
    "\n",
    "df = pd.concat(chunks, ignore_index=True)\n",
    "print(df.info)"
   ]
  },
  {
   "cell_type": "code",
   "execution_count": 4,
   "metadata": {},
   "outputs": [
    {
     "ename": "KeyboardInterrupt",
     "evalue": "",
     "output_type": "error",
     "traceback": [
      "\u001b[0;31m---------------------------------------------------------------------------\u001b[0m",
      "\u001b[0;31mKeyboardInterrupt\u001b[0m                         Traceback (most recent call last)",
      "Cell \u001b[0;32mIn[4], line 4\u001b[0m\n\u001b[1;32m      2\u001b[0m \u001b[38;5;28;01mfor\u001b[39;00m i \u001b[38;5;129;01min\u001b[39;00m \u001b[38;5;28mrange\u001b[39m(\u001b[38;5;241m0\u001b[39m, df\u001b[38;5;241m.\u001b[39mshape[\u001b[38;5;241m0\u001b[39m]):\n\u001b[1;32m      3\u001b[0m     \u001b[38;5;28;01mwith\u001b[39;00m \u001b[38;5;28mopen\u001b[39m(\u001b[38;5;124mf\u001b[39m\u001b[38;5;124m\"\u001b[39m\u001b[38;5;124m/Users/sagewong/Documents/allClinicalNotes/note\u001b[39m\u001b[38;5;132;01m{\u001b[39;00mi\u001b[38;5;132;01m}\u001b[39;00m\u001b[38;5;124m.txt\u001b[39m\u001b[38;5;124m\"\u001b[39m, \u001b[38;5;124m\"\u001b[39m\u001b[38;5;124mw\u001b[39m\u001b[38;5;124m\"\u001b[39m) \u001b[38;5;28;01mas\u001b[39;00m file:\n\u001b[0;32m----> 4\u001b[0m         \u001b[43mfile\u001b[49m\u001b[38;5;241;43m.\u001b[39;49m\u001b[43mwrite\u001b[49m\u001b[43m(\u001b[49m\u001b[43mdf\u001b[49m\u001b[43m[\u001b[49m\u001b[38;5;124;43m'\u001b[39;49m\u001b[38;5;124;43mtext\u001b[39;49m\u001b[38;5;124;43m'\u001b[39;49m\u001b[43m]\u001b[49m\u001b[38;5;241;43m.\u001b[39;49m\u001b[43miloc\u001b[49m\u001b[43m[\u001b[49m\u001b[43mi\u001b[49m\u001b[43m]\u001b[49m\u001b[43m)\u001b[49m\n",
      "\u001b[0;31mKeyboardInterrupt\u001b[0m: "
     ]
    }
   ],
   "source": [
    "# loops through every row in the dataframe and then writes each row into a separate note{index}.txt file\n",
    "for i in range(0, df.shape[0]):\n",
    "    with open(f\"/Users/sagewong/Documents/allClinicalNotes/note{i}.txt\", \"w\") as file:\n",
    "        file.write(df['text'].iloc[i])\n"
   ]
  },
  {
   "cell_type": "code",
   "execution_count": 2,
   "metadata": {},
   "outputs": [
    {
     "name": "stdout",
     "output_type": "stream",
     "text": [
      "['Failure', 'Controlled', 'Control', 'Abuse', 'Failed', 'Alcohol abuse', 'User', 'Compliance', 'Refused', 'Substance abuse', 'Compliant', 'Adherence', 'Narcotics', 'Uncontrolled', 'Controls', 'Adherent', 'Narcotic', 'Nonadherence', 'Noncompliance', 'Refuses', 'Fails', 'Habit', 'Noncompliant', 'Combative', 'Nonadherent', 'Fail', 'Unwilling', 'Refuse', 'Been clean', 'Drug seeking', 'Abuser', 'Abusing', 'Addicted', 'Difficult patient', 'Secondary gain', 'Addict', 'Belligerent', 'Malingering', 'Cheating', 'In denial', 'Argumentative', 'Cheat', 'Cheats', 'Fake', 'Abuses', 'Degenerate', 'Drug problem', 'Unmotivated', 'Malingerer', 'Malingers', 'Depraved', 'Faking', 'Junkie', 'Lifestyle disease', 'Malinger', 'Pill problem', 'Pill seeking', 'Pot head', 'Speedball', 'Strung out']\n"
     ]
    }
   ],
   "source": [
    "with open(\"/Users/sagewong/git/StigmatizingLanguageProject/stigmatizingWords.txt\") as f:\n",
    "    a = f.read()\n",
    "listOfWords = a.split(\"\\n\")\n",
    "print(listOfWords)\n",
    "badDict = {}\n",
    "# for index, clinicalRecord in enumerate(list(df['text'])):\n",
    "#     matches = [x for x in clinicalRecord.split() if x in listOfWords]\n",
    "#     fileListSentences = clinicalRecord.replace(\"\\n\", \"\").split(\".\")\n",
    "#     matchingSentence = [sentence for sentence in fileListSentences if matches[0] in sentence]\n",
    "#     badDict[index] = matches\n",
    "#     if matches:\n",
    "#         print({index:matches, \"Sentence\":matchingSentence})\n",
    "# print(badDict)\n"
   ]
  }
 ],
 "metadata": {
  "kernelspec": {
   "display_name": ".venv",
   "language": "python",
   "name": "python3"
  },
  "language_info": {
   "codemirror_mode": {
    "name": "ipython",
    "version": 3
   },
   "file_extension": ".py",
   "mimetype": "text/x-python",
   "name": "python",
   "nbconvert_exporter": "python",
   "pygments_lexer": "ipython3",
   "version": "3.13.1"
  }
 },
 "nbformat": 4,
 "nbformat_minor": 2
}
