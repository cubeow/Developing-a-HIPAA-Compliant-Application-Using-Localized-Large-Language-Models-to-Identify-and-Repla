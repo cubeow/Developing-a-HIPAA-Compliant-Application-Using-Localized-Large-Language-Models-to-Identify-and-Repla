{
 "cells": [
  {
   "cell_type": "code",
   "execution_count": 1,
   "metadata": {},
   "outputs": [
    {
     "name": "stdout",
     "output_type": "stream",
     "text": [
      "                                              Prompt  \\\n",
      "0  Suppose you are a clinician who has just asked...   \n",
      "1  Suppose you are a clinician who has just asked...   \n",
      "2  Suppose you are a clinician who has just asked...   \n",
      "\n",
      "                                          Completion  \n",
      "0  **Contains-stigmatizing-language:** yes\\n\\n**S...  \n",
      "1  I'm sorry, but I can't generate content that i...  \n",
      "2  **Contains-stigmatizing-language:** yes\\n\\n**S...  \n"
     ]
    }
   ],
   "source": [
    "import pandas as pd\n",
    "\n",
    "df = pd.read_csv(\"/Users/sagewong/git/StigmatizingLanguageProject/ChatGPTPromptGeneration/output.csv\")\n",
    "\n",
    "print(df.head(3))"
   ]
  },
  {
   "cell_type": "code",
   "execution_count": 14,
   "metadata": {},
   "outputs": [
    {
     "data": {
      "text/plain": [
       "0     **Contains-stigmatizing-language:** yes\\n\\n**S...\n",
       "1     I'm sorry, but I can't generate content that i...\n",
       "2     **Contains-stigmatizing-language:** yes\\n\\n**S...\n",
       "3     **Contains-stigmatizing-language:** yes\\n\\n**S...\n",
       "4          I'm sorry, but I can't fulfill this request.\n",
       "                            ...                        \n",
       "79    **Contains-stigmatizing-language:** yes\\n\\n**S...\n",
       "80    **Contains-stigmatizing-language:** yes\\n\\n**S...\n",
       "81    **Contains-stigmatizing-language:** yes\\n\\n**S...\n",
       "82    **Contains-stigmatizing-language:** yes\\n\\n**S...\n",
       "83    **Contains-stigmatizing-language:** yes\\n\\n**S...\n",
       "Name: Completion, Length: 84, dtype: object"
      ]
     },
     "execution_count": 14,
     "metadata": {},
     "output_type": "execute_result"
    }
   ],
   "source": [
    "promptDf = df['Completion']\n",
    "promptDf"
   ]
  },
  {
   "cell_type": "code",
   "execution_count": 18,
   "metadata": {},
   "outputs": [
    {
     "data": {
      "text/plain": [
       "0    **Contains-stigmatizing-language:** yes\\n\\n**S...\n",
       "1    I'm sorry, but I can't generate content that i...\n",
       "2    **Contains-stigmatizing-language:** yes\\n\\n**S...\n",
       "3    **Contains-stigmatizing-language:** yes\\n\\n**S...\n",
       "4         I'm sorry, but I can't fulfill this request.\n",
       "Name: Completion, dtype: object"
      ]
     },
     "execution_count": 18,
     "metadata": {},
     "output_type": "execute_result"
    }
   ],
   "source": [
    "promptDf.head()"
   ]
  },
  {
   "cell_type": "code",
   "execution_count": 48,
   "metadata": {},
   "outputs": [],
   "source": [
    "\n",
    "filteredDf = df.loc[df['Completion'].str.len() > 1858]\n",
    "\n"
   ]
  },
  {
   "cell_type": "code",
   "execution_count": 49,
   "metadata": {},
   "outputs": [],
   "source": [
    "import re"
   ]
  },
  {
   "cell_type": "code",
   "execution_count": 50,
   "metadata": {},
   "outputs": [],
   "source": [
    "stigmatizingLanguage = []\n",
    "for index, row in filteredDf.iterrows():\n",
    "    pattern = r\"Stigmatizing language used:(.*?)Admission date\"\n",
    "    matches = re.findall(pattern, row[\"Completion\"], re.DOTALL)\n",
    "    stigmatizingLanguage.append(matches[0])"
   ]
  },
  {
   "cell_type": "code",
   "execution_count": 51,
   "metadata": {},
   "outputs": [
    {
     "name": "stderr",
     "output_type": "stream",
     "text": [
      "/var/folders/c6/2nhk07gx4s7b8xks2kwjq2vc0000gn/T/ipykernel_53121/1031257418.py:4: SettingWithCopyWarning: \n",
      "A value is trying to be set on a copy of a slice from a DataFrame.\n",
      "Try using .loc[row_indexer,col_indexer] = value instead\n",
      "\n",
      "See the caveats in the documentation: https://pandas.pydata.org/pandas-docs/stable/user_guide/indexing.html#returning-a-view-versus-a-copy\n",
      "  filteredDf['annotated'] = cleaned3\n"
     ]
    }
   ],
   "source": [
    "cleaned1 = [i.replace(\"*\", \"\") for i in stigmatizingLanguage]\n",
    "cleaned2 = [i.split(\"\\n\") for i in cleaned1]\n",
    "cleaned3 = [[j[2:] for j in i if len(j) > 1] for i in cleaned2]\n",
    "filteredDf['annotated'] = cleaned3\n"
   ]
  },
  {
   "cell_type": "code",
   "execution_count": 53,
   "metadata": {},
   "outputs": [
    {
     "name": "stderr",
     "output_type": "stream",
     "text": [
      "/var/folders/c6/2nhk07gx4s7b8xks2kwjq2vc0000gn/T/ipykernel_53121/202558198.py:1: SettingWithCopyWarning: \n",
      "A value is trying to be set on a copy of a slice from a DataFrame.\n",
      "Try using .loc[row_indexer,col_indexer] = value instead\n",
      "\n",
      "See the caveats in the documentation: https://pandas.pydata.org/pandas-docs/stable/user_guide/indexing.html#returning-a-view-versus-a-copy\n",
      "  filteredDf['Completion'] = filteredDf['Completion'].apply(lambda x: x[x.index(\"**Admission date:**\"):])\n"
     ]
    }
   ],
   "source": [
    "filteredDf['Completion'] = filteredDf['Completion'].apply(lambda x: x[x.index(\"**Admission date:**\"):])\n",
    "\n"
   ]
  },
  {
   "cell_type": "code",
   "execution_count": 54,
   "metadata": {},
   "outputs": [],
   "source": [
    "filteredDf.to_csv(\"annotatedData3\")"
   ]
  },
  {
   "cell_type": "code",
   "execution_count": null,
   "metadata": {},
   "outputs": [],
   "source": []
  }
 ],
 "metadata": {
  "kernelspec": {
   "display_name": ".venv",
   "language": "python",
   "name": "python3"
  },
  "language_info": {
   "codemirror_mode": {
    "name": "ipython",
    "version": 3
   },
   "file_extension": ".py",
   "mimetype": "text/x-python",
   "name": "python",
   "nbconvert_exporter": "python",
   "pygments_lexer": "ipython3",
   "version": "3.12.6"
  }
 },
 "nbformat": 4,
 "nbformat_minor": 2
}
